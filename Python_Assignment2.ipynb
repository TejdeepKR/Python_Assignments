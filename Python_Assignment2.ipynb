{
 "cells": [
  {
   "cell_type": "markdown",
   "id": "72590748-874a-4c17-ad70-33363cfad535",
   "metadata": {},
   "source": [
    "1.What are the two values of the Boolean data type? How do you write them?"
   ]
  },
  {
   "cell_type": "code",
   "execution_count": null,
   "id": "9cbf433c-b243-4348-ab69-4c4c3b18e6cf",
   "metadata": {},
   "outputs": [],
   "source": [
    "True(1) and False(0)"
   ]
  },
  {
   "cell_type": "markdown",
   "id": "b14c799e-f97f-469b-b6c6-f7e732429ec4",
   "metadata": {},
   "source": [
    "2. What are the three different types of Boolean operators?"
   ]
  },
  {
   "cell_type": "code",
   "execution_count": null,
   "id": "0fdf1db7-2612-4aaf-b925-950167522778",
   "metadata": {},
   "outputs": [],
   "source": [
    "AND ,OR and NOT"
   ]
  },
  {
   "cell_type": "markdown",
   "id": "60c7484b-1d9c-4d21-8c9c-8531f8dbc59a",
   "metadata": {},
   "source": [
    "3. Make a list of each Boolean operator&#39;s truth tables (i.e. every possible combination of Boolean\n",
    "values for the operator and what it evaluate )."
   ]
  },
  {
   "cell_type": "code",
   "execution_count": null,
   "id": "9357be35-d729-4af9-834d-b74aca343852",
   "metadata": {},
   "outputs": [],
   "source": [
    "True and True = True.\n",
    "True or True = True.\n",
    "True or False = True.\n",
    "False or True = True.\n",
    "\n",
    "True and False = False.\n",
    "False and True = False.\n",
    "False and False = False.\n",
    "False or False = False.\n",
    "\n",
    "not True = False.\n",
    "not False = True."
   ]
  },
  {
   "cell_type": "markdown",
   "id": "20b5853c-c491-4e18-9aee-3b2925fda160",
   "metadata": {},
   "source": [
    "4. What are the values of the following expressions?\n",
    "(5 &gt; 4) and (3 == 5)\n",
    "not (5 &gt; 4)\n",
    "(5 &gt; 4) or (3 == 5)\n",
    "not ((5 &gt; 4) or (3 == 5))\n",
    "(True and True) and (True == False)\n",
    "(not False) or (not True)"
   ]
  },
  {
   "cell_type": "code",
   "execution_count": null,
   "id": "12e02108-717e-4263-94be-0003e1a234f9",
   "metadata": {},
   "outputs": [],
   "source": [
    "(5 > 4) and (3 == 5) -> FALSE\n",
    "not (5 > 4) -> FALSE\n",
    "(5 > 4) or (3 == 5) -> TRUE\n",
    "not ((5 > 4) or (3 == 5)) -> FALSE\n",
    "(True and True) and (True == False) -> FALSE\n",
    "(not False) or (not True) -> TRUE"
   ]
  },
  {
   "cell_type": "markdown",
   "id": "9197d8e2-80e2-4d93-a8b3-54a9bd9a571b",
   "metadata": {},
   "source": [
    "5. What are the six comparison operators?"
   ]
  },
  {
   "cell_type": "code",
   "execution_count": null,
   "id": "f72034a3-1e60-4d2f-996f-bf0ccea14f01",
   "metadata": {},
   "outputs": [],
   "source": [
    "==, !=, <, >, <=, and >="
   ]
  },
  {
   "cell_type": "markdown",
   "id": "3a8fa114-c499-4ca4-bff4-10f63e94d012",
   "metadata": {},
   "source": [
    "6. How do you tell the difference between the equal to and assignment operators?Describe a\n",
    "condition and when you would use one."
   ]
  },
  {
   "cell_type": "code",
   "execution_count": null,
   "id": "4e65b4ba-c724-4f0f-8f47-59b2cf5ebec1",
   "metadata": {},
   "outputs": [],
   "source": [
    "== is equal operator. It is used to compare two values\n",
    "= is assignment operator. It is used to assign value to a variable."
   ]
  },
  {
   "cell_type": "markdown",
   "id": "4616a567-729d-46b2-ad38-3a18715ced76",
   "metadata": {},
   "source": [
    "7. Identify the three blocks in this code:\n",
    "spam = 0\n",
    "if spam == 10:\n",
    "print(&#39;eggs&#39;)\n",
    "if spam &gt; 5:\n",
    "print(&#39;bacon&#39;)\n",
    "else:\n",
    "print(&#39;ham&#39;)\n",
    "print(&#39;spam&#39;)\n",
    "print(&#39;spam&#39;)"
   ]
  },
  {
   "cell_type": "code",
   "execution_count": null,
   "id": "d51a6602-b456-4631-8bff-a563501f48af",
   "metadata": {},
   "outputs": [],
   "source": [
    "Question is little unclear to me\n",
    "\n",
    "Answer is :- \n",
    "1st Block\n",
    "---------\n",
    "spam = 0\n",
    "if spam == 10:\n",
    "print('eggs')\n",
    "\n",
    "2nd Block\n",
    "---------\n",
    "if spam > 5:\n",
    "print('bacon')\n",
    "\n",
    "3rd Block\n",
    "---------\n",
    "else: print('ham') print('spam') print('spam')"
   ]
  },
  {
   "cell_type": "markdown",
   "id": "874d0311-099c-437d-8c9c-39ad633b33e7",
   "metadata": {},
   "source": [
    "8. Write code that prints Hello if 1 is stored in spam, prints Howdy if 2 is stored in spam, and prints\n",
    "Greetings! if anything else is stored in spam."
   ]
  },
  {
   "cell_type": "code",
   "execution_count": null,
   "id": "249d192d-6fbb-4752-a2d1-a874d0abb9dd",
   "metadata": {},
   "outputs": [],
   "source": [
    "if spam==1:\n",
    "    print('Hello')\n",
    "elif spam==2:\n",
    "    print('Hpwdy')\n",
    "else:\n",
    "    print('Greetings!')"
   ]
  },
  {
   "cell_type": "markdown",
   "id": "bb789c3a-8eb9-4362-9f30-519926772cb5",
   "metadata": {},
   "source": [
    "9.If your programme is stuck in an endless loop, what keys you’ll press?"
   ]
  },
  {
   "cell_type": "code",
   "execution_count": null,
   "id": "2183d392-8af0-4f83-80ce-40295f9fb460",
   "metadata": {},
   "outputs": [],
   "source": [
    "control+c"
   ]
  },
  {
   "cell_type": "markdown",
   "id": "e7d1fc82-4f2e-40b1-bb47-6e38abecc390",
   "metadata": {},
   "source": [
    "10. How can you tell the difference between break and continue?"
   ]
  },
  {
   "cell_type": "code",
   "execution_count": null,
   "id": "b8d39b9d-1d19-40ca-a6a8-f7d0a14382d4",
   "metadata": {},
   "outputs": [],
   "source": [
    "Break will stop execution of the loop\n",
    "continue will skip the cuurent loop and will go to next iteration"
   ]
  },
  {
   "cell_type": "markdown",
   "id": "cee8d876-cd2e-4864-9637-19cc276813e5",
   "metadata": {},
   "source": [
    "11. In a for loop, what is the difference between range(10), range(0, 10), and range(0, 10, 1)?"
   ]
  },
  {
   "cell_type": "code",
   "execution_count": null,
   "id": "17de8a18-1e6c-4a8e-9d0e-4a231234e922",
   "metadata": {},
   "outputs": [],
   "source": [
    "No Difference. They all do same thing "
   ]
  },
  {
   "cell_type": "markdown",
   "id": "9b30744a-db0e-4698-bb64-aad5454685dd",
   "metadata": {},
   "source": [
    "12. Write a short program that prints the numbers 1 to 10 using a for loop. Then write an equivalent\n",
    "program that prints the numbers 1 to 10 using a while loop."
   ]
  },
  {
   "cell_type": "code",
   "execution_count": 7,
   "id": "f4f1b2e7-bc10-4880-ae13-6d037e622cd2",
   "metadata": {},
   "outputs": [
    {
     "name": "stdout",
     "output_type": "stream",
     "text": [
      "1\n",
      "2\n",
      "3\n",
      "4\n",
      "5\n",
      "6\n",
      "7\n",
      "8\n",
      "9\n",
      "10\n",
      "1\n",
      "2\n",
      "3\n",
      "4\n",
      "5\n",
      "6\n",
      "7\n",
      "8\n",
      "9\n",
      "10\n"
     ]
    }
   ],
   "source": [
    "#For loop\n",
    "for i in range(1,11):\n",
    "    print(i)\n",
    "\n",
    "# While Loop\n",
    "i=1\n",
    "while i<=10:\n",
    "    print(i)\n",
    "    i=i+1"
   ]
  },
  {
   "cell_type": "markdown",
   "id": "2af75147-a495-49f0-9923-9acb1b920ab7",
   "metadata": {},
   "source": [
    "13. If you had a function named bacon() inside a module named spam, how would you call it after\n",
    "importing spam?"
   ]
  },
  {
   "cell_type": "markdown",
   "id": "2e44d597-ec8f-4c71-95f0-c509e974c48a",
   "metadata": {},
   "source": [
    "spam.bacon()"
   ]
  }
 ],
 "metadata": {
  "kernelspec": {
   "display_name": "Python 3 (ipykernel)",
   "language": "python",
   "name": "python3"
  },
  "language_info": {
   "codemirror_mode": {
    "name": "ipython",
    "version": 3
   },
   "file_extension": ".py",
   "mimetype": "text/x-python",
   "name": "python",
   "nbconvert_exporter": "python",
   "pygments_lexer": "ipython3",
   "version": "3.12.1"
  }
 },
 "nbformat": 4,
 "nbformat_minor": 5
}
