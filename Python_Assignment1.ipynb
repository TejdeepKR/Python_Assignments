{
 "cells": [
  {
   "cell_type": "markdown",
   "id": "0e316644-e290-495b-aa36-22527c968ef4",
   "metadata": {},
   "source": [
    "1. In the below elements which of them are values or an expression? eg:- values can be\r\n",
    "integer or string and expressions will be mathematical operators.\r\n",
    "3\n",
    "9;llo39;\r\n",
    "-87.8\r\n",
    "-\r\n",
    "6\n",
    "/\r\n",
    "+\r\n",
    "6"
   ]
  },
  {
   "cell_type": "code",
   "execution_count": null,
   "id": "66844865-fdc0-4b2e-a34e-013dcb16c47b",
   "metadata": {},
   "outputs": [],
   "source": [
    "*,-,+,/  # These are expressions (mathematical operators)\n",
    "hello,-87.8 ,6  # These are values "
   ]
  },
  {
   "cell_type": "markdown",
   "id": "c549906f-a844-46ff-9dc8-a69274db1ec9",
   "metadata": {},
   "source": [
    "2. What is the difference between string and variable?"
   ]
  },
  {
   "cell_type": "code",
   "execution_count": null,
   "id": "5c0ca6df-767c-4b45-9131-e7955a20005f",
   "metadata": {},
   "outputs": [],
   "source": [
    "Varible = you can use to store data in a program\n",
    "String = String are data, so we can use them to fill up a variable\n",
    "\n",
    "Example:-\n",
    "Name = \"Tejdeep\" # Name is varaible and \"Tejdeep\" is string\n"
   ]
  },
  {
   "cell_type": "markdown",
   "id": "ece9bb37-b563-4c23-90a9-501f772fb17a",
   "metadata": {},
   "source": [
    "3. Describe three different data types."
   ]
  },
  {
   "cell_type": "code",
   "execution_count": null,
   "id": "792db8fd-44e5-4d1d-b19a-094d247bdc4d",
   "metadata": {},
   "outputs": [],
   "source": [
    "1.Numeric DataTypes -> Integer , float \n",
    "2.String DataTypes \n",
    "3.Boolean DataTypes -> True or False"
   ]
  },
  {
   "cell_type": "markdown",
   "id": "4a817f96-0178-4983-ae71-8bdbd97572f1",
   "metadata": {},
   "source": [
    "4. What is an expression made up of? What do all expressions do?"
   ]
  },
  {
   "cell_type": "code",
   "execution_count": null,
   "id": "eac9ef89-7c3e-4121-addb-18310badf936",
   "metadata": {},
   "outputs": [],
   "source": [
    "An expression is a combination of values, variables, operators, and calls to functions. Expressions need to be evaluated. \n",
    "If you ask Python to print an expression, the interpreter evaluates the expression and displays the result"
   ]
  },
  {
   "cell_type": "markdown",
   "id": "0bd11ba8-b07a-4667-ad58-1fcdc711197b",
   "metadata": {},
   "source": [
    "5. This assignment statements, like spam = 10. What is the difference between an\n",
    "expression and a statement?"
   ]
  },
  {
   "cell_type": "code",
   "execution_count": null,
   "id": "08933731-91a8-447c-b292-b904a6e51548",
   "metadata": {},
   "outputs": [],
   "source": [
    "An expression evaluates to a single value. A statement does not."
   ]
  },
  {
   "cell_type": "markdown",
   "id": "9d485a6b-99b0-47ce-95a3-a1356009fca9",
   "metadata": {},
   "source": [
    "6. After running the following code, what does the variable bacon contain?\n",
    "bacon = 22\n",
    "bacon + 1"
   ]
  },
  {
   "cell_type": "code",
   "execution_count": null,
   "id": "6de7b736-42ab-46a9-b93e-aabc486214ae",
   "metadata": {},
   "outputs": [],
   "source": [
    "22"
   ]
  },
  {
   "cell_type": "markdown",
   "id": "49efd386-6a99-4c1b-80fb-8feeff0a27ab",
   "metadata": {},
   "source": [
    "7. What should the values of the following two terms be?\n",
    "&#39;spam&#39; + &#39;spamspam&#39;\n",
    "&#39;spam&#39; * 3"
   ]
  },
  {
   "cell_type": "code",
   "execution_count": null,
   "id": "8d7181a9-f8ab-432a-9e9b-554e977f6b3b",
   "metadata": {},
   "outputs": [],
   "source": [
    "spamspamspam"
   ]
  },
  {
   "cell_type": "markdown",
   "id": "303d0dd1-206f-4b0e-af1a-92746e822afc",
   "metadata": {},
   "source": [
    "8. Why is eggs a valid variable name while 100 is invalid?"
   ]
  },
  {
   "cell_type": "code",
   "execution_count": null,
   "id": "63093ea5-3294-45a7-93ac-2efd3c3cadf2",
   "metadata": {},
   "outputs": [],
   "source": [
    "Variable names cannot begin with a number"
   ]
  },
  {
   "cell_type": "markdown",
   "id": "cb5c4e71-1a61-4877-bc54-953b20228dc1",
   "metadata": {},
   "source": [
    "9. What three functions can be used to get the integer, floating-point number, or string\n",
    "version of a value?"
   ]
  },
  {
   "cell_type": "code",
   "execution_count": null,
   "id": "0e2b3160-97d2-48e0-bb8c-58ef596f36da",
   "metadata": {},
   "outputs": [],
   "source": [
    "int(),float() and str()"
   ]
  },
  {
   "cell_type": "markdown",
   "id": "3c9e8626-adda-46a1-8a96-50b6a3a7273c",
   "metadata": {},
   "source": [
    "10. Why does this expression cause an error? How can you fix it?\n",
    "&#39;I have eaten &#39; + 99 + &#39; burritos.&#39;"
   ]
  },
  {
   "cell_type": "code",
   "execution_count": null,
   "id": "4c0a5b2b-3b7d-4120-857c-0d5827a237e8",
   "metadata": {},
   "outputs": [],
   "source": [
    "RCA := can only concatenate str (not \"int\") to str\n",
    "Solution := int should be converted to string \n",
    "'i have eaten'+' 99 '+'buritos'"
   ]
  }
 ],
 "metadata": {
  "kernelspec": {
   "display_name": "Python 3 (ipykernel)",
   "language": "python",
   "name": "python3"
  },
  "language_info": {
   "codemirror_mode": {
    "name": "ipython",
    "version": 3
   },
   "file_extension": ".py",
   "mimetype": "text/x-python",
   "name": "python",
   "nbconvert_exporter": "python",
   "pygments_lexer": "ipython3",
   "version": "3.12.1"
  }
 },
 "nbformat": 4,
 "nbformat_minor": 5
}
