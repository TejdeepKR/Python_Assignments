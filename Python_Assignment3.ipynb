{
 "cells": [
  {
   "cell_type": "markdown",
   "id": "cf3331d3-9ffa-42e4-824c-313b18d3fa20",
   "metadata": {},
   "source": [
    "1. Why are functions advantageous to have in your programs?"
   ]
  },
  {
   "cell_type": "code",
   "execution_count": null,
   "id": "8430bfb5-da02-4405-8029-4addab5c7ff3",
   "metadata": {},
   "outputs": [],
   "source": [
    "re-usability"
   ]
  },
  {
   "cell_type": "markdown",
   "id": "59281874-80ab-420b-9051-3becefd9b468",
   "metadata": {},
   "source": [
    "2. When does the code in a function run: when it&#39;s specified or when it&#39;s called?"
   ]
  },
  {
   "cell_type": "code",
   "execution_count": null,
   "id": "d3c54667-ecbc-437b-8391-837db85c8fc8",
   "metadata": {},
   "outputs": [],
   "source": [
    "Code will execute when function is invoked"
   ]
  },
  {
   "cell_type": "markdown",
   "id": "4dc28ef8-fa94-4d4a-b6df-188053de48a4",
   "metadata": {},
   "source": [
    "3. What statement creates a function?"
   ]
  },
  {
   "cell_type": "code",
   "execution_count": null,
   "id": "4b40cb15-d48e-4ad7-85d1-5c46bd432c6e",
   "metadata": {},
   "outputs": [],
   "source": [
    "def will create a function"
   ]
  },
  {
   "cell_type": "markdown",
   "id": "79cee480-98d8-4cb9-b806-91b7c7517856",
   "metadata": {},
   "source": [
    "4. What is the difference between a function and a function call?"
   ]
  },
  {
   "cell_type": "code",
   "execution_count": null,
   "id": "2c903aef-3ddb-43cd-8b9e-936ab29094ef",
   "metadata": {},
   "outputs": [],
   "source": [
    "function := it starts with def statement and code inside it\n",
    "function_call :=  it invokes the function "
   ]
  },
  {
   "cell_type": "markdown",
   "id": "2a618945-ab5d-4e2d-b6b7-03d82e8ae4ce",
   "metadata": {},
   "source": [
    "5. How many global scopes are there in a Python program? How many local scopes?"
   ]
  },
  {
   "cell_type": "code",
   "execution_count": null,
   "id": "8f5c08ad-399f-4f6f-bbc3-92c1f754b5ee",
   "metadata": {},
   "outputs": [],
   "source": [
    "variables defined outside function are called global scope\n",
    "variables defined inside function are called local scopes"
   ]
  },
  {
   "cell_type": "markdown",
   "id": "5c37bebb-e210-44e9-b2a9-728106716f87",
   "metadata": {},
   "source": [
    "6. What happens to variables in a local scope when the function call returns?"
   ]
  },
  {
   "cell_type": "code",
   "execution_count": null,
   "id": "880af0ab-3fc0-4b78-881b-cd5e0ed110b8",
   "metadata": {},
   "outputs": [],
   "source": [
    "local variables will be destroyed/resetts when local variables are returned"
   ]
  },
  {
   "cell_type": "markdown",
   "id": "8c14a418-3421-4001-ba98-6eec498e9431",
   "metadata": {},
   "source": [
    "7. What is the concept of a return value? Is it possible to have a return value in an expression?"
   ]
  },
  {
   "cell_type": "code",
   "execution_count": null,
   "id": "e76e2962-2b79-4844-8894-7e9d535de747",
   "metadata": {},
   "outputs": [],
   "source": [
    "Return value is returned from function.\n",
    "yes , we can have return value in an expression"
   ]
  },
  {
   "cell_type": "markdown",
   "id": "264fa0ec-b75e-4ee8-8369-63e7c30873d9",
   "metadata": {},
   "source": [
    "8. If a function does not have a return statement, what is the return value of a call to that function?"
   ]
  },
  {
   "cell_type": "code",
   "execution_count": null,
   "id": "e2614f02-9155-45ad-81bf-e26a406f2f6a",
   "metadata": {},
   "outputs": [],
   "source": [
    "It will return None"
   ]
  },
  {
   "cell_type": "markdown",
   "id": "b8c08606-4304-430f-bde1-a3a95424ee82",
   "metadata": {},
   "source": [
    "9. How do you make a function variable refer to the global variable?"
   ]
  },
  {
   "cell_type": "code",
   "execution_count": null,
   "id": "a8c837be-eeb5-4d5c-aff5-97d26b1c8816",
   "metadata": {},
   "outputs": [],
   "source": [
    "No idea on this."
   ]
  },
  {
   "cell_type": "markdown",
   "id": "c225a867-d890-4a01-acec-1a9073316c9e",
   "metadata": {},
   "source": [
    "10. What is the data type of None?"
   ]
  },
  {
   "cell_type": "code",
   "execution_count": null,
   "id": "90a29f93-3854-4053-bb90-216a4875c750",
   "metadata": {},
   "outputs": [],
   "source": [
    "Nonetype"
   ]
  },
  {
   "cell_type": "markdown",
   "id": "687e24bd-e163-418a-9b03-97a3586ee3b4",
   "metadata": {},
   "source": [
    "11. What does the sentence import areallyourpetsnamederic do?"
   ]
  },
  {
   "cell_type": "code",
   "execution_count": null,
   "id": "a9894941-67f1-45d3-b244-aed58afe6964",
   "metadata": {},
   "outputs": [],
   "source": [
    "It will import the module- areallyourpetsnamederic "
   ]
  },
  {
   "cell_type": "markdown",
   "id": "5f20a547-d74a-4914-b578-f1cc7796628e",
   "metadata": {},
   "source": [
    "12. If you had a bacon() feature in a spam module, what would you call it after importing spam?"
   ]
  },
  {
   "cell_type": "code",
   "execution_count": null,
   "id": "1417391b-4634-4a38-acda-2399b8134e8f",
   "metadata": {},
   "outputs": [],
   "source": [
    "spam.bacon()"
   ]
  },
  {
   "cell_type": "markdown",
   "id": "33ecf4ae-f0e6-4cfd-907b-f7ff91653390",
   "metadata": {},
   "source": [
    "13. What can you do to save a programme from crashing if it encounters an error?"
   ]
  },
  {
   "cell_type": "code",
   "execution_count": null,
   "id": "cd8d5ef9-3e55-4c83-bd92-7861f5bef78f",
   "metadata": {},
   "outputs": [],
   "source": [
    "we can do exception handling "
   ]
  },
  {
   "cell_type": "markdown",
   "id": "59a9dd5a-c202-4cc9-b614-a60da5cc0d24",
   "metadata": {},
   "source": [
    "14. What is the purpose of the try clause? What is the purpose of the except clause?"
   ]
  },
  {
   "cell_type": "code",
   "execution_count": null,
   "id": "7dd75250-52c6-4f65-a7d3-0185d02fc5f2",
   "metadata": {},
   "outputs": [],
   "source": [
    "The code that could potentially cause an error goes in the try clause.\n",
    "\n",
    "The code that executes if an error happens goes in the except clause."
   ]
  }
 ],
 "metadata": {
  "kernelspec": {
   "display_name": "Python 3 (ipykernel)",
   "language": "python",
   "name": "python3"
  },
  "language_info": {
   "codemirror_mode": {
    "name": "ipython",
    "version": 3
   },
   "file_extension": ".py",
   "mimetype": "text/x-python",
   "name": "python",
   "nbconvert_exporter": "python",
   "pygments_lexer": "ipython3",
   "version": "3.12.1"
  }
 },
 "nbformat": 4,
 "nbformat_minor": 5
}
